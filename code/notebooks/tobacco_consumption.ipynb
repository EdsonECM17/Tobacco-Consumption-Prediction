{
 "cells": [
  {
   "cell_type": "markdown",
   "metadata": {},
   "source": [
    "# Tobacco Consumption Data Exploration"
   ]
  },
  {
   "cell_type": "markdown",
   "metadata": {},
   "source": [
    "By Edson Castañeda"
   ]
  },
  {
   "cell_type": "code",
   "execution_count": null,
   "metadata": {},
   "outputs": [],
   "source": [
    "import pandas as pd\n",
    "import matplotlib.pyplot as plt\n",
    "import seaborn as sns\n",
    "import random\n",
    "import math"
   ]
  },
  {
   "cell_type": "code",
   "execution_count": null,
   "metadata": {},
   "outputs": [],
   "source": [
    "import warnings\n",
    "warnings.simplefilter(action=\"ignore\", category=FutureWarning)"
   ]
  },
  {
   "cell_type": "markdown",
   "metadata": {},
   "source": [
    "## Read Data"
   ]
  },
  {
   "cell_type": "code",
   "execution_count": null,
   "metadata": {},
   "outputs": [],
   "source": [
    "DATA_PATH = \"../../data/Tobacco_Consumption.csv\"\n",
    "tobacco_data = pd.read_csv(DATA_PATH)\n",
    "tobacco_data.sample(10)"
   ]
  },
  {
   "cell_type": "markdown",
   "metadata": {},
   "source": [
    "## Exploration"
   ]
  },
  {
   "cell_type": "code",
   "execution_count": null,
   "metadata": {},
   "outputs": [],
   "source": [
    "tobacco_data.shape"
   ]
  },
  {
   "cell_type": "code",
   "execution_count": null,
   "metadata": {},
   "outputs": [],
   "source": [
    "tobacco_data.info()"
   ]
  },
  {
   "cell_type": "markdown",
   "metadata": {},
   "source": [
    "### Categorical Data"
   ]
  },
  {
   "cell_type": "code",
   "execution_count": null,
   "metadata": {},
   "outputs": [],
   "source": [
    "tobacco_categorical_data = tobacco_data.select_dtypes(exclude=['int', 'float'])\n",
    "print(f\"Total Categorical Columns: {len(tobacco_categorical_data.columns)}\")\n",
    "tobacco_categorical_data.head(10)"
   ]
  },
  {
   "cell_type": "code",
   "execution_count": null,
   "metadata": {},
   "outputs": [],
   "source": [
    "fig, ax = plt.subplots(2,3, figsize=(20, 15))\n",
    "fig.subplots_adjust(hspace=.5)\n",
    "i = 0\n",
    "for col in tobacco_categorical_data.columns:\n",
    "    sns.countplot(tobacco_categorical_data[col], ax=ax[i%2, math.floor(i/2)])\n",
    "    i+=1\n",
    "\n",
    "for ax in fig.axes:\n",
    "    plt.sca(ax)\n",
    "    plt.xticks(rotation=45)\n"
   ]
  },
  {
   "cell_type": "markdown",
   "metadata": {},
   "source": [
    "For *LocationDesc* and *LocationAbbrev* columns there is only one unique value each. Therefore, these columns are constants."
   ]
  },
  {
   "cell_type": "markdown",
   "metadata": {},
   "source": [
    "#### Categorical data combinations"
   ]
  },
  {
   "cell_type": "code",
   "execution_count": null,
   "metadata": {},
   "outputs": [],
   "source": [
    "tobacco_categorical_data.drop_duplicates()"
   ]
  },
  {
   "cell_type": "code",
   "execution_count": null,
   "metadata": {},
   "outputs": [],
   "source": [
    "total_data = len(tobacco_categorical_data)\n",
    "different_combinations = len(tobacco_categorical_data.drop_duplicates())\n",
    "print(f\"Total combinations of categories (rows): {total_data}\")\n",
    "print(f\"Find {different_combinations} unique category combinations\")\n",
    "print(f\"Relation: {total_data/different_combinations}\")"
   ]
  },
  {
   "cell_type": "code",
   "execution_count": null,
   "metadata": {},
   "outputs": [],
   "source": [
    "len(tobacco_data['Year'].unique())"
   ]
  },
  {
   "cell_type": "markdown",
   "metadata": {},
   "source": [
    "The categories in the dataframe are *repeated by year*. Each year has the same 13 combinations of categories."
   ]
  },
  {
   "cell_type": "markdown",
   "metadata": {},
   "source": [
    "### Numerical Data"
   ]
  },
  {
   "cell_type": "code",
   "execution_count": null,
   "metadata": {},
   "outputs": [],
   "source": [
    "tobacco_numerical_data = tobacco_data.select_dtypes(include=['int', 'float'])\n",
    "print(f\"Total Numerical Columns: {len(tobacco_numerical_data.columns)}\")\n",
    "tobacco_numerical_data.head(10)"
   ]
  },
  {
   "cell_type": "code",
   "execution_count": null,
   "metadata": {},
   "outputs": [],
   "source": [
    "# Explore correlations\n",
    "correlations = tobacco_numerical_data.corr()\n",
    "sns.heatmap(correlations, annot=True)\n",
    "plt.show()"
   ]
  },
  {
   "cell_type": "markdown",
   "metadata": {},
   "source": [
    "*Per capita values* have a strong correlation with normal values. "
   ]
  },
  {
   "cell_type": "code",
   "execution_count": null,
   "metadata": {},
   "outputs": [],
   "source": [
    "relation_per_capita = round(tobacco_numerical_data[\"Total\"]/tobacco_numerical_data[\"Population\"], 1) - tobacco_numerical_data[\"Total Per Capita\"]\n",
    "round(relation_per_capita.median(), 3)\n"
   ]
  },
  {
   "cell_type": "markdown",
   "metadata": {},
   "source": [
    "Per_capita_columns = (Normal_column)/(Population)\n",
    "\n",
    "For further analysis, per capita columns are excluded."
   ]
  },
  {
   "cell_type": "markdown",
   "metadata": {},
   "source": [
    "*Domestic* and *Imports* have a strong correlation to *Total* column."
   ]
  },
  {
   "cell_type": "code",
   "execution_count": null,
   "metadata": {},
   "outputs": [],
   "source": [
    "difference_total = tobacco_numerical_data[\"Total\"]- tobacco_numerical_data[\"Domestic\"] - tobacco_numerical_data[\"Imports\"]\n",
    "difference_total.median()"
   ]
  },
  {
   "cell_type": "markdown",
   "metadata": {},
   "source": [
    "Total = Imports + Domestic"
   ]
  },
  {
   "cell_type": "markdown",
   "metadata": {},
   "source": [
    "*Year* and *Population* have a strong correation with each other, but a low correation to tobacco values."
   ]
  },
  {
   "cell_type": "markdown",
   "metadata": {},
   "source": [
    "### Measures and submesures"
   ]
  },
  {
   "cell_type": "markdown",
   "metadata": {},
   "source": [
    "As each year has the same category combinations, one year (2000) is used as a sample."
   ]
  },
  {
   "cell_type": "code",
   "execution_count": null,
   "metadata": {},
   "outputs": [],
   "source": [
    "pounds_df = tobacco_data[(tobacco_data[\"Data Value Unit\"] == \"Pounds\") & (tobacco_data[\"Year\"] == 2000)]\n",
    "pounds_df"
   ]
  },
  {
   "cell_type": "code",
   "execution_count": null,
   "metadata": {},
   "outputs": [],
   "source": [
    "# Compare diff between Total Loose Tobacco and Pipe Tobacco\n",
    "pounds_df[\"Domestic\"][4] - pounds_df[\"Domestic\"][6]\n",
    "# Diff is equal to Roll-Your-Own Tobacco"
   ]
  },
  {
   "cell_type": "markdown",
   "metadata": {},
   "source": [
    "For Loose Tobacco (in Pounds):\n",
    "\n",
    "Total Loose Tobacco = Pipe Tobacco + Roll-Your-Own Tobacco"
   ]
  },
  {
   "cell_type": "code",
   "execution_count": null,
   "metadata": {},
   "outputs": [],
   "source": [
    "cigarette_equivalents_df = tobacco_data[(tobacco_data[\"Data Value Unit\"] != \"Pounds\") & (tobacco_data[\"Year\"] == 2000)]\n",
    "cigarette_equivalents_df"
   ]
  },
  {
   "cell_type": "markdown",
   "metadata": {},
   "source": [
    "For Loose Tobacco (in Cigarette Equivalents):\n",
    "\n",
    "Total Loose Tobacco = Pipe Tobacco + Roll-Your-Own Tobacco\n",
    "\n",
    "The Loose Tobacco values are in the table twice (as pounds and as cigarette equivalents), that's the reason the frecuency was the double than other cases in categorical data analysis."
   ]
  },
  {
   "cell_type": "code",
   "execution_count": null,
   "metadata": {},
   "outputs": [],
   "source": [
    "cigars_df = cigarette_equivalents_df[(cigarette_equivalents_df[\"Data Value Unit\"] == \"Cigars\")]\n",
    "cigars_df"
   ]
  },
  {
   "cell_type": "code",
   "execution_count": null,
   "metadata": {},
   "outputs": [],
   "source": [
    "# Add small and large cigars\n",
    "cigars_df[\"Domestic\"][5] + cigars_df[\"Domestic\"][9]\n",
    "# Value equal to total cigars"
   ]
  },
  {
   "cell_type": "markdown",
   "metadata": {},
   "source": [
    "For Cigars:\n",
    "\n",
    "Total Cigars = Small Cigars + Large Cigars"
   ]
  },
  {
   "cell_type": "code",
   "execution_count": null,
   "metadata": {},
   "outputs": [],
   "source": [
    "# Sum all non-total cigarrette and cigars columns\n",
    "sum_cigarettes = cigarette_equivalents_df[\"Domestic\"][~cigarette_equivalents_df[\"Submeasure\"].str.contains(\"Total\")].sum()\n",
    "\n",
    "cigarette_equivalents_df[\"Domestic\"][cigarette_equivalents_df[\"Submeasure\"]==\"Total Combustible Tobacco\"] - sum_cigarettes\n",
    "# Sum is equal to Total Combustible Tobacco"
   ]
  },
  {
   "cell_type": "markdown",
   "metadata": {},
   "source": [
    "Total Combustible Tobacco = Small Cigars + Large Cigars + Pipe Tobacco + Roll-Your-Own Tobacco + Cigarette Removals\n",
    "\n",
    "Cigarette, Cigarette Equivalents, and Cigars units have a 1:1:1 relationship."
   ]
  },
  {
   "cell_type": "markdown",
   "metadata": {},
   "source": [
    "## Transform Data"
   ]
  },
  {
   "cell_type": "code",
   "execution_count": null,
   "metadata": {},
   "outputs": [],
   "source": [
    "# Drop columns with constant information\n",
    "tobacco_data.drop(columns=[\"LocationAbbrev\", \"LocationDesc\"], inplace=True)\n",
    "# Measures and Topics can be grouped due their different units\n",
    "tobacco_data.drop(columns=[\"Topic\", \"Measure\"], inplace=True)\n",
    "# To reduce data with similar behavior, per capita values will be also ignored in the transformation\n",
    "tobacco_data.drop(columns=[\"Domestic Per Capita\", \"Imports Per Capita\", \"Total Per Capita\"], inplace=True)\n",
    "tobacco_data.head(3)"
   ]
  },
  {
   "cell_type": "code",
   "execution_count": null,
   "metadata": {},
   "outputs": [],
   "source": [
    "# Get all non-total measures\n",
    "tobacco_singles_df = tobacco_data[~tobacco_data[\"Submeasure\"].str.contains(\"Total\")]\n",
    "tobacco_singles_df.reset_index(drop=True, inplace=True)\n",
    "print(f\"Shape: {tobacco_singles_df.shape}\")\n",
    "tobacco_singles_df.head(5)\n"
   ]
  },
  {
   "cell_type": "code",
   "execution_count": null,
   "metadata": {},
   "outputs": [],
   "source": [
    "# Convert cigarettes, cigarettes equivalents and cigars to standard unit \"Units\"\n",
    "tobacco_singles_df.loc[tobacco_singles_df[\"Data Value Unit\"] != \"Pounds\", \"Data Value Unit\"] = \"Units\"\n",
    "tobacco_singles_df.head(5)"
   ]
  },
  {
   "cell_type": "code",
   "execution_count": null,
   "metadata": {},
   "outputs": [],
   "source": [
    "# Combine submasure and data value units\n",
    "tobacco_singles_df[\"Type\"] = tobacco_singles_df[\"Submeasure\"] + \" (\" + tobacco_singles_df[\"Data Value Unit\"] + \")\"\n",
    "# Drop columns\n",
    "tobacco_singles_df.drop(columns=[\"Submeasure\", \"Data Value Unit\"], inplace=True)\n",
    "tobacco_singles_df.head(5)"
   ]
  },
  {
   "cell_type": "code",
   "execution_count": null,
   "metadata": {},
   "outputs": [],
   "source": [
    "ts_df =pd.pivot_table(tobacco_singles_df, index = [\"Year\", \"Population\"], columns = [\"Type\"])\n",
    "ts_df.reset_index(inplace=True)\n",
    "ts_df.columns = [\" \".join(col).strip() for col in ts_df.columns.values]\n",
    "ts_df.head(5)"
   ]
  },
  {
   "cell_type": "code",
   "execution_count": null,
   "metadata": {},
   "outputs": [],
   "source": [
    "# Add total column\n",
    "ts_df[\"Total Combustible Tobacco (Units)\"] = (ts_df[\"Total Cigarette Removals (Units)\"] + ts_df[\"Total Small Cigars (Units)\"] +\n",
    "    ts_df[\"Total Large Cigars (Units)\"] + ts_df[\"Total Pipe Tobacco (Units)\"] + ts_df[\"Total Roll-Your-Own Tobacco (Units)\"])"
   ]
  },
  {
   "cell_type": "code",
   "execution_count": null,
   "metadata": {},
   "outputs": [],
   "source": [
    "# Plot total over the years\n",
    "sns.lineplot(x=ts_df[\"Year\"], y=ts_df[\"Total Combustible Tobacco (Units)\"])"
   ]
  },
  {
   "cell_type": "code",
   "execution_count": null,
   "metadata": {},
   "outputs": [],
   "source": [
    "# Export ts to df\n",
    "OUTPUT_PATH = \"../../data/Transformed_Tobacco_Consumption.csv\"\n",
    "ts_df.to_csv(OUTPUT_PATH, index=False)"
   ]
  },
  {
   "cell_type": "code",
   "execution_count": null,
   "metadata": {},
   "outputs": [],
   "source": [
    "# Explore variables distribution\n",
    "ts_df.describe().convert_dtypes()"
   ]
  },
  {
   "cell_type": "code",
   "execution_count": null,
   "metadata": {},
   "outputs": [],
   "source": [
    "# Create boxplots\n",
    "COLORS = [\"b\",\"g\", \"r\", \"c\", \"m\", \"y\"]\n",
    "fig, ax = plt.subplots(5,6, figsize=(20,15))\n",
    "i = 0\n",
    "for col in ts_df.columns:\n",
    "    sns.boxplot(y=col, data=ts_df, color = random.choice(COLORS), ax=ax[i%5, math.floor(i/5)])\n",
    "    i+=1\n",
    "\n",
    "plt.tight_layout()"
   ]
  },
  {
   "cell_type": "code",
   "execution_count": null,
   "metadata": {},
   "outputs": [],
   "source": [
    "# Create histogram\n",
    "COLORS = [\"b\",\"g\", \"r\", \"c\", \"m\", \"y\"]\n",
    "fig, ax = plt.subplots(5,6, figsize=(20,15))\n",
    "i = 0\n",
    "for col in ts_df.columns:\n",
    "    sns.distplot(ts_df[col], color = random.choice(COLORS), ax=ax[i%5, math.floor(i/5)])\n",
    "    i+=1\n",
    "\n",
    "plt.tight_layout()"
   ]
  },
  {
   "cell_type": "code",
   "execution_count": null,
   "metadata": {},
   "outputs": [],
   "source": [
    "# Plot trend by year\n",
    "COLORS = [\"b\",\"g\", \"r\", \"c\", \"m\", \"y\"]\n",
    "fig, ax = plt.subplots(5,6, figsize=(20,15))\n",
    "i = 0\n",
    "for col in ts_df.columns:\n",
    "    sns.lineplot(x=ts_df[\"Year\"], y=ts_df[col], color = random.choice(COLORS), ax=ax[i%5, math.floor(i/5)])\n",
    "    i+=1\n",
    "plt.tight_layout()"
   ]
  },
  {
   "cell_type": "code",
   "execution_count": null,
   "metadata": {},
   "outputs": [],
   "source": [
    "# Explore correlations\n",
    "correlations = ts_df.corr()\n",
    "plt.figure(figsize=(20, 15))\n",
    "sns.heatmap(correlations, annot=True)\n",
    "plt.show()"
   ]
  },
  {
   "cell_type": "code",
   "execution_count": null,
   "metadata": {},
   "outputs": [],
   "source": [
    "ts_change_df = ts_df.pct_change().dropna()\n",
    "ts_change_df = round(ts_change_df *100,2)\n",
    "ts_change_df.drop(columns = [\"Year\", \"Population\"], inplace=True)\n",
    "ts_change_df.head(5)"
   ]
  },
  {
   "cell_type": "code",
   "execution_count": null,
   "metadata": {},
   "outputs": [],
   "source": [
    "# Plot % of change of varibles\n",
    "COLORS = [\"b\",\"g\", \"r\", \"c\", \"m\", \"y\"]\n",
    "fig, ax = plt.subplots(5,6, figsize=(20,15))\n",
    "i = 0\n",
    "for col in ts_change_df.columns:\n",
    "    sns.lineplot(x=ts_change_df.index, y=ts_change_df[col], color = random.choice(COLORS), ax=ax[i%5, math.floor(i/5)])\n",
    "    i+=1\n",
    "plt.tight_layout()"
   ]
  }
 ],
 "metadata": {
  "interpreter": {
   "hash": "d4b24cbe09888733ef60d1db6ee825af8a125c1cb448def14fe24122033b6174"
  },
  "kernelspec": {
   "display_name": "Python 3.8.8 ('jenv': venv)",
   "language": "python",
   "name": "python3"
  },
  "language_info": {
   "codemirror_mode": {
    "name": "ipython",
    "version": 3
   },
   "file_extension": ".py",
   "mimetype": "text/x-python",
   "name": "python",
   "nbconvert_exporter": "python",
   "pygments_lexer": "ipython3",
   "version": "3.8.8"
  },
  "orig_nbformat": 4
 },
 "nbformat": 4,
 "nbformat_minor": 2
}
