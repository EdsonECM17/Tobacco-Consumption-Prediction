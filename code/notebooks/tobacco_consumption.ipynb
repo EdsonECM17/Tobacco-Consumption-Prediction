{
 "cells": [
  {
   "cell_type": "markdown",
   "metadata": {},
   "source": [
    "# Tobacco Consumption Data Exploration"
   ]
  },
  {
   "cell_type": "markdown",
   "metadata": {},
   "source": [
    "By Edson Castañeda"
   ]
  },
  {
   "cell_type": "code",
   "execution_count": null,
   "metadata": {},
   "outputs": [],
   "source": [
    "import pandas as pd\n",
    "import matplotlib.pyplot as plt\n",
    "import seaborn as sns\n",
    "import math"
   ]
  },
  {
   "cell_type": "code",
   "execution_count": null,
   "metadata": {},
   "outputs": [],
   "source": [
    "import warnings\n",
    "warnings.simplefilter(action=\"ignore\", category=FutureWarning)"
   ]
  },
  {
   "cell_type": "markdown",
   "metadata": {},
   "source": [
    "## Read Data"
   ]
  },
  {
   "cell_type": "code",
   "execution_count": null,
   "metadata": {},
   "outputs": [],
   "source": [
    "DATA_PATH = \"../../data/Tobacco_Consumption.csv\"\n",
    "tobacco_data = pd.read_csv(DATA_PATH)\n",
    "tobacco_data.sample(10)"
   ]
  },
  {
   "cell_type": "markdown",
   "metadata": {},
   "source": [
    "## Exploration"
   ]
  },
  {
   "cell_type": "code",
   "execution_count": null,
   "metadata": {},
   "outputs": [],
   "source": [
    "tobacco_data.shape"
   ]
  },
  {
   "cell_type": "code",
   "execution_count": null,
   "metadata": {},
   "outputs": [],
   "source": [
    "tobacco_data.info()"
   ]
  },
  {
   "cell_type": "markdown",
   "metadata": {},
   "source": [
    "### Categorical Data"
   ]
  },
  {
   "cell_type": "code",
   "execution_count": null,
   "metadata": {},
   "outputs": [],
   "source": [
    "tobacco_categorical_data = tobacco_data.select_dtypes(exclude=['int', 'float'])\n",
    "print(f\"Total Categorical Columns: {len(tobacco_categorical_data.columns)}\")\n",
    "tobacco_categorical_data.head(10)"
   ]
  },
  {
   "cell_type": "code",
   "execution_count": null,
   "metadata": {},
   "outputs": [],
   "source": [
    "fig, ax = plt.subplots(2,3, figsize=(20, 15))\n",
    "fig.subplots_adjust(hspace=.5)\n",
    "i = 0\n",
    "for col in tobacco_categorical_data.columns:\n",
    "    sns.countplot(tobacco_categorical_data[col], ax=ax[i%2, math.floor(i/2)])\n",
    "    i+=1\n",
    "\n",
    "for ax in fig.axes:\n",
    "    plt.sca(ax)\n",
    "    plt.xticks(rotation=45)\n"
   ]
  },
  {
   "cell_type": "markdown",
   "metadata": {},
   "source": [
    "For *LocationDesc* and *LocationAbbrev* columns there is only one unique value each. Therefore, these columns are constants."
   ]
  },
  {
   "cell_type": "markdown",
   "metadata": {},
   "source": [
    "#### Categorical data combinations"
   ]
  },
  {
   "cell_type": "code",
   "execution_count": null,
   "metadata": {},
   "outputs": [],
   "source": [
    "tobacco_categorical_data.drop_duplicates()"
   ]
  },
  {
   "cell_type": "code",
   "execution_count": null,
   "metadata": {},
   "outputs": [],
   "source": [
    "total_data = len(tobacco_categorical_data)\n",
    "different_combinations = len(tobacco_categorical_data.drop_duplicates())\n",
    "print(f\"Total combinations of categories (rows): {total_data}\")\n",
    "print(f\"Find {different_combinations} unique category combinations\")\n",
    "print(f\"Relation: {total_data/different_combinations}\")"
   ]
  },
  {
   "cell_type": "code",
   "execution_count": null,
   "metadata": {},
   "outputs": [],
   "source": [
    "len(tobacco_data['Year'].unique())"
   ]
  },
  {
   "cell_type": "markdown",
   "metadata": {},
   "source": [
    "The categories in the dataframe are *repeated by year*. Each year has the same 13 combinations of categories."
   ]
  },
  {
   "cell_type": "markdown",
   "metadata": {},
   "source": [
    "### Numerical Data"
   ]
  },
  {
   "cell_type": "code",
   "execution_count": null,
   "metadata": {},
   "outputs": [],
   "source": [
    "tobacco_numerical_data = tobacco_data.select_dtypes(include=['int', 'float'])\n",
    "print(f\"Total Numerical Columns: {len(tobacco_numerical_data.columns)}\")\n",
    "tobacco_numerical_data.head(10)"
   ]
  },
  {
   "cell_type": "code",
   "execution_count": null,
   "metadata": {},
   "outputs": [],
   "source": [
    "# Explore correlations\n",
    "correlations = tobacco_numerical_data.corr()\n",
    "sns.heatmap(correlations, annot=True)\n",
    "plt.show()"
   ]
  },
  {
   "cell_type": "markdown",
   "metadata": {},
   "source": [
    "*Per capita values* have a strong correlation with normal values. "
   ]
  },
  {
   "cell_type": "code",
   "execution_count": null,
   "metadata": {},
   "outputs": [],
   "source": [
    "relation_per_capita = round(tobacco_numerical_data[\"Total\"]/tobacco_numerical_data[\"Population\"], 1) - tobacco_numerical_data[\"Total Per Capita\"]\n",
    "round(relation_per_capita.median(), 3)\n"
   ]
  },
  {
   "cell_type": "markdown",
   "metadata": {},
   "source": [
    "Per_capita_columns = (Normal_column)/(Population)\n",
    "\n",
    "For further analysis, per capita columns are excluded."
   ]
  },
  {
   "cell_type": "markdown",
   "metadata": {},
   "source": [
    "*Domestic* and *Imports* have a strong correlation to *Total* column."
   ]
  },
  {
   "cell_type": "code",
   "execution_count": null,
   "metadata": {},
   "outputs": [],
   "source": [
    "difference_total = tobacco_numerical_data[\"Total\"]- tobacco_numerical_data[\"Domestic\"] - tobacco_numerical_data[\"Imports\"]\n",
    "difference_total.median()"
   ]
  },
  {
   "cell_type": "markdown",
   "metadata": {},
   "source": [
    "Total = Imports + Domestic"
   ]
  },
  {
   "cell_type": "markdown",
   "metadata": {},
   "source": [
    "*Year* and *Population* have a strong correation with each other, but a low correation to tobacco values."
   ]
  }
 ],
 "metadata": {
  "interpreter": {
   "hash": "d4b24cbe09888733ef60d1db6ee825af8a125c1cb448def14fe24122033b6174"
  },
  "kernelspec": {
   "display_name": "Python 3.8.8 ('jenv': venv)",
   "language": "python",
   "name": "python3"
  },
  "language_info": {
   "codemirror_mode": {
    "name": "ipython",
    "version": 3
   },
   "file_extension": ".py",
   "mimetype": "text/x-python",
   "name": "python",
   "nbconvert_exporter": "python",
   "pygments_lexer": "ipython3",
   "version": "3.8.8"
  },
  "orig_nbformat": 4
 },
 "nbformat": 4,
 "nbformat_minor": 2
}
