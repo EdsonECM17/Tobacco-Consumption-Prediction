{
 "cells": [
  {
   "cell_type": "markdown",
   "metadata": {},
   "source": [
    "# Tobacco Consumption"
   ]
  },
  {
   "cell_type": "markdown",
   "metadata": {},
   "source": [
    "Tobacco consumption is one of the primary causes of lung cancer in the World. Tobacco in the form of cigars and cigarettes is usually available to adult population in many supermarkets and grocery stores. The data obtained for this analysis describes Tobacco Consumption in USA from 2000 to 2020. From behavior of the data in those 21 years, the aim of the project is to predict total tobacco consumption in 2021 and 2022. "
   ]
  },
  {
   "cell_type": "markdown",
   "metadata": {},
   "source": [
    "At first, the libraries used for this project are imported."
   ]
  },
  {
   "cell_type": "code",
   "execution_count": null,
   "metadata": {},
   "outputs": [],
   "source": [
    "import pandas as pd\n",
    "import matplotlib.pyplot as plt\n",
    "import statsmodels.api as sm\n",
    "import numpy as np\n",
    "import seaborn as sns\n",
    "import random\n",
    "import math\n",
    "from statsmodels.tsa.seasonal import seasonal_decompose\n",
    "from statsmodels.tsa.api import Holt\n",
    "from statsmodels.tsa.arima.model import ARIMA\n",
    "from sklearn.linear_model import LinearRegression\n",
    "from sklearn.metrics import mean_squared_error, mean_absolute_percentage_error"
   ]
  },
  {
   "cell_type": "markdown",
   "metadata": {},
   "source": [
    "An additional import is included in order to ignore some warnings while processing the data."
   ]
  },
  {
   "cell_type": "code",
   "execution_count": null,
   "metadata": {},
   "outputs": [],
   "source": [
    "import warnings\n",
    "warnings.simplefilter(action=\"ignore\", category=FutureWarning)"
   ]
  },
  {
   "cell_type": "markdown",
   "metadata": {},
   "source": [
    "## Extraction"
   ]
  },
  {
   "cell_type": "markdown",
   "metadata": {},
   "source": [
    "The data for this project is stored in a *.csv* file. The path to the file is defined in the variable *DATA_PATH*."
   ]
  },
  {
   "cell_type": "code",
   "execution_count": null,
   "metadata": {},
   "outputs": [],
   "source": [
    "DATA_PATH = \"../data/Tobacco_Consumption.csv\""
   ]
  },
  {
   "cell_type": "markdown",
   "metadata": {},
   "source": [
    "The file is read and a sample of the data is shown."
   ]
  },
  {
   "cell_type": "code",
   "execution_count": null,
   "metadata": {},
   "outputs": [],
   "source": [
    "tobacco_data_raw = pd.read_csv(DATA_PATH)\n",
    "tobacco_data_raw.sample(10)"
   ]
  },
  {
   "cell_type": "markdown",
   "metadata": {},
   "source": [
    "## Exploratory Data Analysis"
   ]
  },
  {
   "cell_type": "markdown",
   "metadata": {},
   "source": [
    "Describe data table"
   ]
  },
  {
   "cell_type": "code",
   "execution_count": null,
   "metadata": {},
   "outputs": [],
   "source": [
    "tobacco_data_raw.info()"
   ]
  },
  {
   "cell_type": "markdown",
   "metadata": {},
   "source": [
    "In this table, there are categorial and numerical variables.\n",
    "\n",
    "The exploration will initially focus on categorical variables and later on the numerical ones. "
   ]
  },
  {
   "cell_type": "markdown",
   "metadata": {},
   "source": [
    "### Categorical Data Exploration"
   ]
  },
  {
   "cell_type": "markdown",
   "metadata": {},
   "source": [
    "The categorical data columns are filtered from the original dataframe."
   ]
  },
  {
   "cell_type": "code",
   "execution_count": null,
   "metadata": {},
   "outputs": [],
   "source": [
    "# Filter categorical variables from data\n",
    "tobacco_categorical_data = tobacco_data_raw.select_dtypes(exclude=['int', 'float'])\n",
    "# Show head of tables\n",
    "tobacco_categorical_data.head(10)"
   ]
  },
  {
   "cell_type": "markdown",
   "metadata": {},
   "source": [
    "Categorical data columns are identified."
   ]
  },
  {
   "cell_type": "code",
   "execution_count": null,
   "metadata": {},
   "outputs": [],
   "source": [
    "# Show numbers of columns\n",
    "print(f\"There is a total  of {len(tobacco_categorical_data.columns)} categorical data columns\")\n",
    "# Show name of the columns\n",
    "print(f\"The columns are: {tobacco_categorical_data.columns}\")"
   ]
  },
  {
   "cell_type": "markdown",
   "metadata": {},
   "source": [
    "To explore the frecuency of elements for each column, frecuency is ploted in a bar chart, where x axis is the name of the elements in the column, and yaxis is the number of times the element is in the column."
   ]
  },
  {
   "cell_type": "code",
   "execution_count": null,
   "metadata": {},
   "outputs": [],
   "source": [
    "# Create plot object\n",
    "fig, ax = plt.subplots(2,3, figsize=(20, 15))\n",
    "fig.subplots_adjust(hspace=.5)\n",
    "i = 0\n",
    "# Add subplot of frecuency of elements per column of categociall data\n",
    "for col in tobacco_categorical_data.columns:\n",
    "    sns.countplot(tobacco_categorical_data[col], ax=ax[i%2, math.floor(i/2)])\n",
    "    i+=1\n",
    "# Rotate axis of each subplot\n",
    "for ax in fig.axes:\n",
    "    plt.sca(ax)\n",
    "    plt.xticks(rotation=45)"
   ]
  },
  {
   "cell_type": "markdown",
   "metadata": {},
   "source": [
    "For *LocationDesc* and *LocationAbbrev* columns there is only one unique value each. Therefore, these columns are constants.\n",
    "\n",
    "Most values in submeasure have a 21 apperances in the table."
   ]
  },
  {
   "cell_type": "markdown",
   "metadata": {},
   "source": [
    "The combinations of values in the columns \"Measure\", \"Submeasure\" and \"Units\" is further explored, to identify how many time each different combinations is shown in the table."
   ]
  },
  {
   "cell_type": "markdown",
   "metadata": {},
   "source": [
    "#### Categorical data combinations"
   ]
  },
  {
   "cell_type": "markdown",
   "metadata": {},
   "source": [
    "Unique combinations of categories are obtained."
   ]
  },
  {
   "cell_type": "code",
   "execution_count": null,
   "metadata": {},
   "outputs": [],
   "source": [
    "# Get unique combinations by dropping duplicated categorical columns\n",
    "tobacco_categorical_data.drop_duplicates()"
   ]
  },
  {
   "cell_type": "markdown",
   "metadata": {},
   "source": [
    "Describe combinations and unique combinations."
   ]
  },
  {
   "cell_type": "code",
   "execution_count": null,
   "metadata": {},
   "outputs": [],
   "source": [
    "# Get number of unique combinations and total combinations in the table\n",
    "total_categories_combinations = len(tobacco_categorical_data)\n",
    "unique_categories_combinations = len(tobacco_categorical_data.drop_duplicates())\n",
    "# Print summary\n",
    "print(f\"Total combinations of categories (rows): {total_categories_combinations}\")\n",
    "print(f\"Find {unique_categories_combinations} unique category combinations\")\n",
    "print(f\"Relation: {total_categories_combinations/unique_categories_combinations}\")"
   ]
  },
  {
   "cell_type": "markdown",
   "metadata": {},
   "source": [
    "13 combinations are repeated 21 times in the table.\n",
    "\n",
    "This number match the number of years in the data. The dataset included 13 different values per year."
   ]
  },
  {
   "cell_type": "markdown",
   "metadata": {},
   "source": [
    "### Numerical Data Exploration"
   ]
  },
  {
   "cell_type": "markdown",
   "metadata": {},
   "source": [
    "The numerical data columns are filtered from the original dataframe."
   ]
  },
  {
   "cell_type": "code",
   "execution_count": null,
   "metadata": {},
   "outputs": [],
   "source": [
    "# Filter numerical variables from data\n",
    "tobacco_numerical_data = tobacco_data_raw.select_dtypes(include=['int', 'float'])\n",
    "# Show head of tables\n",
    "tobacco_numerical_data.head(10)"
   ]
  },
  {
   "cell_type": "markdown",
   "metadata": {},
   "source": [
    "Numerical data columns are identified."
   ]
  },
  {
   "cell_type": "code",
   "execution_count": null,
   "metadata": {},
   "outputs": [],
   "source": [
    "# Show numbers of columns\n",
    "print(f\"There is a total  of {len(tobacco_numerical_data.columns)} numerical data columns\")\n",
    "# Show name of the columns\n",
    "print(f\"The columns are: {tobacco_numerical_data.columns}\")"
   ]
  },
  {
   "cell_type": "markdown",
   "metadata": {},
   "source": [
    "To understand how each variable is related to each other, correlations are obtained and plotted."
   ]
  },
  {
   "cell_type": "code",
   "execution_count": null,
   "metadata": {},
   "outputs": [],
   "source": [
    "# Explore correlations\n",
    "correlations = tobacco_numerical_data.corr()\n",
    "# Plot correlations\n",
    "sns.heatmap(correlations, annot=True)\n",
    "plt.show()"
   ]
  },
  {
   "cell_type": "markdown",
   "metadata": {},
   "source": [
    "*Year* and *Population* have a strong correation with each other, but a low correation to tobacco values."
   ]
  },
  {
   "cell_type": "markdown",
   "metadata": {},
   "source": [
    "*Per capita values* have a strong correlation with normal values. \n",
    "\n",
    "A test is applied to verify if per capita values are obtained from total values and population."
   ]
  },
  {
   "cell_type": "code",
   "execution_count": null,
   "metadata": {},
   "outputs": [],
   "source": [
    "# Obtain difference between per capital columns and normal columns divided by population\n",
    "relation_per_capita = round(tobacco_numerical_data[\"Total\"]/tobacco_numerical_data[\"Population\"], 1) - tobacco_numerical_data[\"Total Per Capita\"]\n",
    "round(relation_per_capita.median(), 3)"
   ]
  },
  {
   "cell_type": "markdown",
   "metadata": {},
   "source": [
    "The difference is close to 0. Therefore, the next expressions can be established from the data:\n",
    "\n",
    "$$\n",
    "Domestic\\_per\\_capita= \\frac{Domestic}{Population}\n",
    "$$\n",
    "$$\n",
    "Imports\\_per\\_capita= \\frac{Imports}{Population}\n",
    "$$\n",
    "$$\n",
    "Total\\_per\\_capita= \\frac{Total}{Population}\n",
    "$$\n",
    "\n",
    "For further analysis, per capita columns are excluded."
   ]
  },
  {
   "cell_type": "markdown",
   "metadata": {},
   "source": [
    "*Domestic* and *Imports* have a strong correlation to *Total* column."
   ]
  },
  {
   "cell_type": "code",
   "execution_count": null,
   "metadata": {},
   "outputs": [],
   "source": [
    "# Difference between total and imports + domestic is obtained\n",
    "difference_total = tobacco_numerical_data[\"Total\"]- tobacco_numerical_data[\"Domestic\"] - tobacco_numerical_data[\"Imports\"]\n",
    "difference_total.median()"
   ]
  },
  {
   "cell_type": "markdown",
   "metadata": {},
   "source": [
    "The difference is 0, so\n",
    "$$\n",
    "Total = Imports + Domestic\n",
    "$$"
   ]
  },
  {
   "cell_type": "markdown",
   "metadata": {},
   "source": [
    "To have a better understading  of this variables, it is needed to combine numerical exploration with the unique categories exploration. After that analysis, the relation between submeasures is expected to be identified."
   ]
  },
  {
   "cell_type": "markdown",
   "metadata": {},
   "source": [
    "### Integrated Exploration (Categories & Numerical Data)"
   ]
  },
  {
   "cell_type": "markdown",
   "metadata": {},
   "source": [
    "As each year has the same category combinations, one year (2000) is used as a sample. As this analysis focuses in tobacco consumption, only units related to products are taken in to account. Therefore, unit \"Pounds\" is excluded."
   ]
  },
  {
   "cell_type": "code",
   "execution_count": null,
   "metadata": {},
   "outputs": [],
   "source": [
    "# Get filtered df \n",
    "products_df = tobacco_data_raw[(tobacco_data_raw[\"Data Value Unit\"] != \"Pounds\") & (tobacco_data_raw[\"Year\"] == 2000)]\n",
    "products_df"
   ]
  },
  {
   "cell_type": "markdown",
   "metadata": {},
   "source": [
    "Total Loose Tobacco is compared to Pipe Tobaco and Roll-Your-Own Tobacco "
   ]
  },
  {
   "cell_type": "code",
   "execution_count": null,
   "metadata": {},
   "outputs": [],
   "source": [
    "# Compare diff between Total Loose Tobacco and Pipe Tobacco\n",
    "products_df[\"Domestic\"][3] - products_df[\"Domestic\"][7] - products_df[\"Domestic\"][10]"
   ]
  },
  {
   "cell_type": "markdown",
   "metadata": {},
   "source": [
    "Therefore,\n",
    "$$\n",
    "Total\\_Loose\\_Tobacco = Pipe\\_Tobacco + Roll\\_Your\\_Own\\_Tobacco\n",
    "$$"
   ]
  },
  {
   "cell_type": "markdown",
   "metadata": {},
   "source": [
    "The Loose Tobacco values are in the table twice (as pounds and as cigarette equivalents), that's the reason the frecuency was the double than other cases in categorical data analysis."
   ]
  },
  {
   "cell_type": "markdown",
   "metadata": {},
   "source": [
    "Total Cigars are compared to Small and Large Cigars..."
   ]
  },
  {
   "cell_type": "code",
   "execution_count": null,
   "metadata": {},
   "outputs": [],
   "source": [
    "products_df[\"Domestic\"][2] - products_df[\"Domestic\"][5] - products_df[\"Domestic\"][9]"
   ]
  },
  {
   "cell_type": "markdown",
   "metadata": {},
   "source": [
    "For Cigars:\n",
    "\n",
    "$$\n",
    "Total\\_Cigars = Small\\_Cigars + Large\\_Cigars\n",
    "$$"
   ]
  },
  {
   "cell_type": "code",
   "execution_count": null,
   "metadata": {},
   "outputs": [],
   "source": [
    "# Get sum of non-total submeasures\n",
    "sum_cigarettes = products_df[\"Domestic\"][~products_df[\"Submeasure\"].str.contains(\"Total\")].sum()\n",
    "# Compare sum to Total Combustible Tobacco variable\n",
    "products_df[\"Domestic\"][products_df[\"Submeasure\"]==\"Total Combustible Tobacco\"] - sum_cigarettes"
   ]
  },
  {
   "cell_type": "markdown",
   "metadata": {},
   "source": [
    "$$\n",
    "Total\\_Combustible\\_Tobacco = Total\\_Cigars + Total\\_Loose\\_Tobacco o + Cigarette\\_Removals\n",
    "$$\n",
    "\n",
    "Cigarette, Cigarette Equivalents, and Cigars units have a 1:1:1 relationship."
   ]
  },
  {
   "cell_type": "markdown",
   "metadata": {},
   "source": [
    "**Total Combustible Tobacco** contains information of all types of tobacco products submeasures. This value will be the target variable that is going to be predicted in the analysis."
   ]
  },
  {
   "cell_type": "markdown",
   "metadata": {},
   "source": [
    "## Data Wrangling"
   ]
  },
  {
   "cell_type": "markdown",
   "metadata": {},
   "source": [
    "The original dataframe is filtered and transfromed to get a useful table focused in the target variable. Unnecesary columns are drop and year is set as index of the table."
   ]
  },
  {
   "cell_type": "code",
   "execution_count": null,
   "metadata": {},
   "outputs": [],
   "source": [
    "total_combustible_tobacco_df = tobacco_data_raw[tobacco_data_raw[\"Submeasure\"]==\"Total Combustible Tobacco\"]\n",
    "# Drop columns with constant information\n",
    "total_combustible_tobacco_df.drop(columns=[\"LocationAbbrev\", \"LocationDesc\", \"Topic\", \"Measure\",\n",
    "    \"Submeasure\", \"Data Value Unit\"], inplace=True)\n",
    "# To reduce data with similar behavior, per capita values will be also ignored in the transformation\n",
    "total_combustible_tobacco_df.drop(columns=[\"Domestic Per Capita\", \"Imports Per Capita\", \"Total Per Capita\"], inplace=True)\n",
    "# Year to index and datetime object\n",
    "total_combustible_tobacco_df.set_index(\"Year\", inplace = True)\n",
    "total_combustible_tobacco_df.index = pd.to_datetime(total_combustible_tobacco_df.index, format = \"%Y\")\n",
    "# Show time series\n",
    "total_combustible_tobacco_df"
   ]
  },
  {
   "cell_type": "markdown",
   "metadata": {},
   "source": [
    "Plot total over the years"
   ]
  },
  {
   "cell_type": "code",
   "execution_count": null,
   "metadata": {},
   "outputs": [],
   "source": [
    "sns.lineplot(x=total_combustible_tobacco_df.index, y=total_combustible_tobacco_df[\"Total\"])\n",
    "plt.title(\"Total Combustible Tobacco per Year\")\n",
    "plt.ylabel(\"Units\")\n",
    "plt.show()"
   ]
  },
  {
   "cell_type": "markdown",
   "metadata": {},
   "source": [
    "Store new table as csv."
   ]
  },
  {
   "cell_type": "code",
   "execution_count": null,
   "metadata": {},
   "outputs": [],
   "source": [
    "# Export ts to df\n",
    "OUTPUT_PATH = \"../data/Transformed_Tobacco_Consumption.csv\"\n",
    "total_combustible_tobacco_df.to_csv(OUTPUT_PATH, index=False)"
   ]
  },
  {
   "cell_type": "markdown",
   "metadata": {},
   "source": [
    "## Exploration of Transformed Data"
   ]
  },
  {
   "cell_type": "code",
   "execution_count": null,
   "metadata": {},
   "outputs": [],
   "source": [
    "# Explore variables distribution\n",
    "total_combustible_tobacco_df.describe().convert_dtypes()"
   ]
  },
  {
   "cell_type": "markdown",
   "metadata": {},
   "source": [
    "Show boxplots and histograms"
   ]
  },
  {
   "cell_type": "code",
   "execution_count": null,
   "metadata": {},
   "outputs": [],
   "source": [
    "# Create boxplots\n",
    "COLORS = [\"b\",\"g\", \"r\", \"c\", \"m\", \"y\"]\n",
    "fig, ax = plt.subplots(2,2, figsize=(10,7))\n",
    "i = 0\n",
    "for col in total_combustible_tobacco_df.columns:\n",
    "    sns.boxplot(y=col, data=total_combustible_tobacco_df, color = random.choice(COLORS), ax=ax[i%2, math.floor(i/2)])\n",
    "    i+=1\n",
    "\n",
    "plt.tight_layout()"
   ]
  },
  {
   "cell_type": "markdown",
   "metadata": {},
   "source": [
    "For population and total, data seems to be symmetric. However, Domestic and Total are a little right-skewed."
   ]
  },
  {
   "cell_type": "code",
   "execution_count": null,
   "metadata": {},
   "outputs": [],
   "source": [
    "# Create histogram\n",
    "COLORS = [\"b\",\"g\", \"r\", \"c\", \"m\", \"y\"]\n",
    "fig, ax = plt.subplots(2,2, figsize=(10,7))\n",
    "i = 0\n",
    "for col in total_combustible_tobacco_df.columns:\n",
    "    sns.distplot(total_combustible_tobacco_df[col], color = random.choice(COLORS), ax=ax[i%2, math.floor(i/2)])\n",
    "    i+=1\n",
    "\n",
    "plt.tight_layout()"
   ]
  },
  {
   "cell_type": "markdown",
   "metadata": {},
   "source": [
    "All variables seem close to be symetric. The previously identified as skewed variables are also close to the center of the data."
   ]
  },
  {
   "cell_type": "markdown",
   "metadata": {},
   "source": [
    "Plots all trends by year."
   ]
  },
  {
   "cell_type": "code",
   "execution_count": null,
   "metadata": {},
   "outputs": [],
   "source": [
    "COLORS = [\"b\",\"g\", \"r\", \"c\", \"m\", \"y\"]\n",
    "fig, ax = plt.subplots(2,2, figsize=(10,7))\n",
    "i = 0\n",
    "for col in total_combustible_tobacco_df.columns:\n",
    "    sns.lineplot(x=total_combustible_tobacco_df.index, y=total_combustible_tobacco_df[col],\n",
    "        color = random.choice(COLORS), ax=ax[i%2, math.floor(i/2)])\n",
    "    i+=1\n",
    "plt.tight_layout()"
   ]
  },
  {
   "cell_type": "markdown",
   "metadata": {},
   "source": [
    "The percentage of change of variables over time is explored."
   ]
  },
  {
   "cell_type": "markdown",
   "metadata": {},
   "source": [
    "### % Change over the years"
   ]
  },
  {
   "cell_type": "markdown",
   "metadata": {},
   "source": [
    "Get % of change of each variable and plot."
   ]
  },
  {
   "cell_type": "code",
   "execution_count": null,
   "metadata": {},
   "outputs": [],
   "source": [
    "ts_change_df = total_combustible_tobacco_df.pct_change().dropna()\n",
    "ts_change_df = round(ts_change_df *100,2)\n",
    "ts_change_df.head(5)"
   ]
  },
  {
   "cell_type": "code",
   "execution_count": null,
   "metadata": {},
   "outputs": [],
   "source": [
    "# Plot % of change of varibles\n",
    "COLORS = [\"b\",\"g\", \"r\", \"c\", \"m\", \"y\"]\n",
    "fig, ax = plt.subplots(2,2, figsize=(10,7))\n",
    "i = 0\n",
    "for col in ts_change_df.columns:\n",
    "    sns.lineplot(x=ts_change_df.index, y=ts_change_df[col], color = random.choice(COLORS), ax=ax[i%2, math.floor(i/2)])\n",
    "    i+=1\n",
    "plt.tight_layout()"
   ]
  },
  {
   "cell_type": "markdown",
   "metadata": {},
   "source": [
    "There is no clear behavior related to how much does each vairables changes per year."
   ]
  },
  {
   "cell_type": "markdown",
   "metadata": {},
   "source": [
    "### Stationarity"
   ]
  },
  {
   "cell_type": "markdown",
   "metadata": {},
   "source": [
    " Augmented Dickey-Fuller test is applied to verify if the data is stationary."
   ]
  },
  {
   "cell_type": "code",
   "execution_count": null,
   "metadata": {},
   "outputs": [],
   "source": [
    "X = total_combustible_tobacco_df[\"Total\"].values\n",
    "\n",
    "result = sm.tsa.stattools.adfuller(X)\n",
    "print('ADF Statistic: %f' % result[0])\n",
    "print('p-value: %f' % result[1])\n",
    "print('Critical Values:')\n",
    "for key, value in result[4].items():\n",
    "\tprint('\\t%s: %.3f' % (key, value))"
   ]
  },
  {
   "cell_type": "markdown",
   "metadata": {},
   "source": [
    "The p-value is really small (less than 5% threshold), so it is confirmed the total column is a stationary time series."
   ]
  },
  {
   "cell_type": "markdown",
   "metadata": {},
   "source": [
    "### ACF and PACF"
   ]
  },
  {
   "cell_type": "code",
   "execution_count": null,
   "metadata": {},
   "outputs": [],
   "source": [
    "plt.rc(\"figure\", figsize=(10,6))\n",
    "sm.graphics.tsa.plot_acf(total_combustible_tobacco_df[\"Total\"], lags=20)\n",
    "plt.show()"
   ]
  },
  {
   "cell_type": "code",
   "execution_count": null,
   "metadata": {},
   "outputs": [],
   "source": [
    "plt.rc(\"figure\", figsize=(10,6))\n",
    "sm.graphics.tsa.plot_pacf(total_combustible_tobacco_df[\"Total\"], lags=9)\n",
    "plt.show()"
   ]
  },
  {
   "cell_type": "markdown",
   "metadata": {},
   "source": [
    "### Time Series Decomposition"
   ]
  },
  {
   "cell_type": "code",
   "execution_count": null,
   "metadata": {},
   "outputs": [],
   "source": [
    "ts_decompose = seasonal_decompose(total_combustible_tobacco_df[\"Total\"], model=\"additive\")\n",
    "ts_decompose.plot()\n",
    "plt.show()"
   ]
  },
  {
   "cell_type": "markdown",
   "metadata": {},
   "source": [
    "There is neither seasonal component or resid."
   ]
  },
  {
   "cell_type": "markdown",
   "metadata": {},
   "source": [
    "## Modeling"
   ]
  },
  {
   "cell_type": "markdown",
   "metadata": {},
   "source": [
    "In this project, three models are compared:\n",
    "- Linear Regression\n",
    "- AutoRegresive Integrated Moving Average (ARIMA)\n",
    "- Holt's Exponential Smoothing\n",
    "\n",
    "Two metrics are used for comparing and selecting a model:\n",
    "- Relative Root Mean Square Error (rRMSE)\n",
    "- Mean Absolute Percentage Error (MAPE)\n",
    "\n",
    "One of the models will be selected to predict the total tobacco consumption over the next years."
   ]
  },
  {
   "cell_type": "markdown",
   "metadata": {},
   "source": [
    "At first, data is splitted in test and train datasets"
   ]
  },
  {
   "cell_type": "code",
   "execution_count": null,
   "metadata": {},
   "outputs": [],
   "source": [
    "train = total_combustible_tobacco_df[\"Total\"][total_combustible_tobacco_df.index < \"12-12-2016\"]\n",
    "test = total_combustible_tobacco_df[\"Total\"][total_combustible_tobacco_df.index > \"12-12-2016\"]\n",
    "\n",
    "plt.plot(train, color=\"black\")\n",
    "plt.plot(test, color = \"red\" )\n",
    "plt.ylabel(\"Units\")\n",
    "plt.xlabel(\"Year\")\n",
    "plt.title(\"Train/Test split for Tobacco Data\")\n",
    "plt.show()"
   ]
  },
  {
   "cell_type": "markdown",
   "metadata": {},
   "source": [
    "### Linear Regression Model"
   ]
  },
  {
   "cell_type": "markdown",
   "metadata": {},
   "source": [
    "In this model, indepedent variable is Year and dependent variable is the total tobacco consumption. Based on that, X and Y are defined."
   ]
  },
  {
   "cell_type": "code",
   "execution_count": null,
   "metadata": {},
   "outputs": [],
   "source": [
    "# Get X and Y from training data\n",
    "X = train.index.year.values.reshape(-1, 1)\n",
    "Y = train.values.reshape(-1, 1)"
   ]
  },
  {
   "cell_type": "markdown",
   "metadata": {},
   "source": [
    "The model is created and trained."
   ]
  },
  {
   "cell_type": "code",
   "execution_count": null,
   "metadata": {},
   "outputs": [],
   "source": [
    "LR_model = LinearRegression()\n",
    "LR_model.fit(X, Y)"
   ]
  },
  {
   "cell_type": "markdown",
   "metadata": {},
   "source": [
    "To test the model, predictions of the years in the test set (2017-2020) are made."
   ]
  },
  {
   "cell_type": "code",
   "execution_count": null,
   "metadata": {},
   "outputs": [],
   "source": [
    "y_pred_lr = pd.Series(LR_model.predict(test.index.year.values.reshape(-1, 1)).flatten(), index=test.index)\n",
    "y_pred_lr"
   ]
  },
  {
   "cell_type": "code",
   "execution_count": null,
   "metadata": {},
   "outputs": [],
   "source": [
    "plt.plot(train, color=\"black\", label = \"Train\")\n",
    "plt.plot(test, color = \"red\", label = \"Test\")\n",
    "plt.plot(y_pred_lr, color = \"blue\", label= \"Linear Regression\")\n",
    "plt.ylabel(\"Units consumed\")\n",
    "plt.xlabel(\"Year\")\n",
    "plt.title(\"Linear Regression prediction for Tobacco Data\")\n",
    "plt.legend(loc=\"upper right\")\n",
    "plt.show()"
   ]
  },
  {
   "cell_type": "markdown",
   "metadata": {},
   "source": [
    "### ARIMA Model"
   ]
  },
  {
   "cell_type": "markdown",
   "metadata": {},
   "source": [
    "Train model and tune hyperparameters."
   ]
  },
  {
   "cell_type": "code",
   "execution_count": null,
   "metadata": {},
   "outputs": [],
   "source": [
    "ARIMA_model = ARIMA(train, order=(3,3,2))\n",
    "ARIMA_model = ARIMA_model.fit()\n",
    "print(ARIMA_model.summary())"
   ]
  },
  {
   "cell_type": "markdown",
   "metadata": {},
   "source": [
    "To test the model, predictions of the years in the test set (2017-2020) are made."
   ]
  },
  {
   "cell_type": "code",
   "execution_count": null,
   "metadata": {},
   "outputs": [],
   "source": [
    "arima_pred = ARIMA_model.get_forecast(len(test))\n",
    "# Get confidence interval\n",
    "y_conf_int_df = arima_pred.conf_int(alpha=0.05)\n",
    "y_conf_int_df\n",
    "# Get predictions for test set years\n",
    "y_pred_arima = ARIMA_model.predict(start=test.index[0], end=test.index[-1])\n"
   ]
  },
  {
   "cell_type": "code",
   "execution_count": null,
   "metadata": {},
   "outputs": [],
   "source": [
    "plt.plot(train, color=\"black\", label = \"Train\")\n",
    "plt.plot(test, color = \"red\", label = \"Test\")\n",
    "plt.plot(y_pred_arima, color = \"green\", label= \"ARIMA\")\n",
    "plt.fill_between(y_conf_int_df.index, y_conf_int_df[\"lower Total\"], y_conf_int_df[\"upper Total\"], color=\"k\", alpha=0.15)\n",
    "plt.ylabel(\"Units\")\n",
    "plt.xlabel(\"Year\")\n",
    "plt.title(\"ARIMA prediction for Tobacco Data\")\n",
    "plt.legend(loc=\"upper right\")\n",
    "plt.show()"
   ]
  },
  {
   "cell_type": "markdown",
   "metadata": {},
   "source": [
    "### Holt's Exponential Smoothing Model (ETS)\n"
   ]
  },
  {
   "cell_type": "markdown",
   "metadata": {},
   "source": [
    "Train model"
   ]
  },
  {
   "cell_type": "code",
   "execution_count": null,
   "metadata": {},
   "outputs": [],
   "source": [
    "holt_model = Holt(train, initialization_method=\"estimated\").fit(smoothing_level=0.8, smoothing_trend=0.2, optimized=False)"
   ]
  },
  {
   "cell_type": "markdown",
   "metadata": {},
   "source": [
    "To test the model, predictions of the years in the test set (2017-2020) are made."
   ]
  },
  {
   "cell_type": "code",
   "execution_count": null,
   "metadata": {},
   "outputs": [],
   "source": [
    "y_pred_ets = holt_model.forecast(len(test))"
   ]
  },
  {
   "cell_type": "code",
   "execution_count": null,
   "metadata": {},
   "outputs": [],
   "source": [
    "plt.plot(train, color=\"black\", label = \"Train\")\n",
    "plt.plot(test, color = \"red\", label = \"Test\")\n",
    "plt.plot(y_pred_ets, color = \"blue\", label= \"Holt's ETS\")\n",
    "plt.ylabel(\"Units\")\n",
    "plt.xlabel(\"Year\")\n",
    "plt.title(\"ETS prediction for Tobacco Data\")\n",
    "plt.legend(loc=\"upper right\")\n",
    "plt.show()"
   ]
  },
  {
   "cell_type": "markdown",
   "metadata": {},
   "source": [
    "### Evaluation and Selection"
   ]
  },
  {
   "cell_type": "markdown",
   "metadata": {},
   "source": [
    "Define function to obtain relative root mean square error of predicted values."
   ]
  },
  {
   "cell_type": "code",
   "execution_count": null,
   "metadata": {},
   "outputs": [],
   "source": [
    "def rRMSE(actual_values, predicted_values, mean_value):\n",
    "    rmse_value = np.sqrt(mean_squared_error(actual_values, predicted_values))\n",
    "    rrmse_value = rmse_value/mean_value\n",
    "    return rrmse_value"
   ]
  },
  {
   "cell_type": "markdown",
   "metadata": {},
   "source": [
    "Create table that summarizes results of evaluation metrics."
   ]
  },
  {
   "cell_type": "code",
   "execution_count": null,
   "metadata": {},
   "outputs": [],
   "source": [
    "# Get evaluation metrics in the form of a dict\n",
    "data_results = {\"rRSME\": [rRMSE(test.values, y_pred_arima.values, test.mean()),\n",
    "                    rRMSE(test.values, y_pred_lr.values, test.mean()),\n",
    "                    rRMSE(test.values, y_pred_ets.values, test.mean())],\n",
    "                \"MAPE\": [mean_absolute_percentage_error(test.values, y_pred_arima.values),\n",
    "                    mean_absolute_percentage_error(test.values, y_pred_lr.values),\n",
    "                    mean_absolute_percentage_error(test.values, y_pred_ets.values)]}\n",
    "# Dict to df                   \n",
    "evaluation_df = pd.DataFrame(data_results, index= [\"ARIMA\", \"Linear Regression\", \"Holt's ETS\"])\n",
    "evaluation_df\n"
   ]
  },
  {
   "cell_type": "code",
   "execution_count": null,
   "metadata": {},
   "outputs": [],
   "source": [
    "evaluation_df.plot.bar()"
   ]
  },
  {
   "cell_type": "markdown",
   "metadata": {},
   "source": [
    "Linear Regression model provided a worse performance than the other two models. ARIMA and ETS got similar results in MAPE metric, but performance of ARIMA was better than ETS in rRMSE metric. For ARIMA, both metric results are under 2%.\n",
    "\n",
    "ARIMA model is selected."
   ]
  },
  {
   "cell_type": "markdown",
   "metadata": {},
   "source": [
    "## Results"
   ]
  },
  {
   "cell_type": "markdown",
   "metadata": {},
   "source": [
    "Get tobacco consumption for 2021, 2022 and 2023."
   ]
  },
  {
   "cell_type": "code",
   "execution_count": null,
   "metadata": {},
   "outputs": [],
   "source": [
    "y_predictions_future = ARIMA_model.predict(start=\"2021\", end=\"2025\")\n",
    "y_predictions_future"
   ]
  },
  {
   "cell_type": "code",
   "execution_count": null,
   "metadata": {},
   "outputs": [],
   "source": [
    "plt.plot(total_combustible_tobacco_df[\"Total\"], color=\"black\", label = \"Train\")\n",
    "plt.plot(y_predictions_future, color = \"blue\", label= \"Predictions\")\n",
    "plt.ylabel(\"Units\")\n",
    "plt.xlabel(\"Year\")\n",
    "plt.title(\"Predictions for Total Tobacco Consumption in Next Years\")\n",
    "plt.show()"
   ]
  },
  {
   "cell_type": "markdown",
   "metadata": {},
   "source": [
    "## Conclusions"
   ]
  },
  {
   "cell_type": "markdown",
   "metadata": {},
   "source": [
    "Total Tobacco Consumption is decreasing through the years in the United States. \n",
    "\n",
    "For the next years, the total consumption is expected to keep decreasing."
   ]
  }
 ],
 "metadata": {
  "interpreter": {
   "hash": "ca8394958243b1253e2025c64c7f1016e107aca3d3de89b46ad820189590c0a5"
  },
  "kernelspec": {
   "display_name": "Python 3.8.8 ('jenv': venv)",
   "language": "python",
   "name": "python3"
  },
  "language_info": {
   "codemirror_mode": {
    "name": "ipython",
    "version": 3
   },
   "file_extension": ".py",
   "mimetype": "text/x-python",
   "name": "python",
   "nbconvert_exporter": "python",
   "pygments_lexer": "ipython3",
   "version": "3.8.8"
  },
  "orig_nbformat": 4
 },
 "nbformat": 4,
 "nbformat_minor": 2
}
